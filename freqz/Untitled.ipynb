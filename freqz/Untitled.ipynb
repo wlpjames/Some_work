{
 "cells": [
  {
   "cell_type": "code",
   "execution_count": 1,
   "metadata": {},
   "outputs": [],
   "source": [
    "#a module to test the output of c++ freqz function."
   ]
  },
  {
   "cell_type": "code",
   "execution_count": 69,
   "metadata": {},
   "outputs": [],
   "source": [
    "import os\n",
    "import scipy .signal as sig\n",
    "import numpy as np\n",
    "import matplotlib.pyplot as plt\n",
    "import cmath\n",
    "from math import e, pi"
   ]
  },
  {
   "cell_type": "code",
   "execution_count": null,
   "metadata": {},
   "outputs": [],
   "source": [
    "\n",
    "    "
   ]
  },
  {
   "cell_type": "code",
   "execution_count": 70,
   "metadata": {},
   "outputs": [],
   "source": [
    "def call_c(command):\n",
    "    os.system('rm output.txt')\n",
    "    print(command)\n",
    "    #call the shell\n",
    "    os.system(command)\n",
    "    \n",
    "    #now read output\n",
    "    f = open(\"output.txt\", \"r\")\n",
    "    x = f.read().split(\"\\n\")\n",
    "    return [float(x) for x in x[:-1]]\n",
    "    \n",
    "    "
   ]
  },
  {
   "cell_type": "code",
   "execution_count": 89,
   "metadata": {
    "scrolled": false
   },
   "outputs": [
    {
     "name": "stdout",
     "output_type": "stream",
     "text": [
      "[0.0039206 0.0078412 0.0039206] [ 1.         -1.84875445  0.86635039]\n",
      "./a.out 2 0.0039205997985470595 0.007841199597094119 0.0039205997985470595  1.0 -1.8487544456429137 0.8663503869465231  48000 1000 output.txt 1\n"
     ]
    }
   ],
   "source": [
    "order = 2\n",
    "samplerate = 48000\n",
    "numSamples = 1000\n",
    "ripple = 1\n",
    "cuttoff = 1000\n",
    "b, a = sig.cheby1(order, ripple, cuttoff, 'low', fs=samplerate)\n",
    "print (b, a)\n",
    "bstring = ''\n",
    "astring = ''\n",
    "for i in range(order+1):\n",
    "    bstring += str(b[i]) + ' '\n",
    "    astring += str(a[i]) + ' '\n",
    "output = call_c(\"./a.out {}\".format(order)+' '+bstring+' '+astring+' {} {} output.txt {}'.format(samplerate, numSamples, 1))"
   ]
  },
  {
   "cell_type": "code",
   "execution_count": 90,
   "metadata": {},
   "outputs": [
    {
     "data": {
      "image/png": "[encoded data removed]",
      "text/plain": [
       "<Figure size 432x288 with 1 Axes>"
      ]
     },
     "metadata": {},
     "output_type": "display_data"
    }
   ],
   "source": [
    "w, h = sig.freqz(b, a)\n",
    "plt.plot(w/np.pi, np.abs(h))\n",
    "plt.show()"
   ]
  },
  {
   "cell_type": "code",
   "execution_count": 91,
   "metadata": {},
   "outputs": [
    {
     "data": {
      "image/png": "[encoded data removed]",
      "text/plain": [
       "<Figure size 432x288 with 1 Axes>"
      ]
     },
     "metadata": {},
     "output_type": "display_data"
    }
   ],
   "source": [
    "\n",
    "plt.plot(output)\n",
    "plt.show()"
   ]
  },
  {
   "cell_type": "code",
   "execution_count": null,
   "metadata": {},
   "outputs": [],
   "source": []
  },
  {
   "cell_type": "code",
   "execution_count": null,
   "metadata": {},
   "outputs": [],
   "source": []
  },
  {
   "cell_type": "code",
   "execution_count": null,
   "metadata": {},
   "outputs": [],
   "source": []
  }
 ],
 "metadata": {
  "kernelspec": {
   "display_name": "Python 3",
   "language": "python",
   "name": "python3"
  },
  "language_info": {
   "codemirror_mode": {
    "name": "ipython",
    "version": 3
   },
   "file_extension": ".py",
   "mimetype": "text/x-python",
   "name": "python",
   "nbconvert_exporter": "python",
   "pygments_lexer": "ipython3",
   "version": "3.6.8"
  }
 },
 "nbformat": 4,
 "nbformat_minor": 2
}
