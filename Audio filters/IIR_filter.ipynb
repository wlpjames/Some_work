{
 "cells": [
  {
   "cell_type": "code",
   "execution_count": null,
   "metadata": {},
   "outputs": [],
   "source": []
  },
  {
   "cell_type": "code",
   "execution_count": 2,
   "metadata": {},
   "outputs": [],
   "source": [
    "import matplotlib.pyplot as plt\n",
    "%matplotlib inline\n",
    "import numpy as np\n",
    "import soundfile as sf\n",
    "from IPython.display import Audio, display\n",
    "from scipy import signal as sig\n"
   ]
  },
  {
   "cell_type": "code",
   "execution_count": 3,
   "metadata": {},
   "outputs": [],
   "source": [
    "def plot_fft(signal, signal2, samplerate):\n",
    "    plt.figure(figsize=(6,2))\n",
    "    \n",
    "    # Plot frequency response (in dB).\n",
    "    signal = np.abs(np.fft.fft(signal))[:len(signal)//2]\n",
    "    plt.plot(np.linspace(0, samplerate//2, len(signal)),  signal)\n",
    "\n",
    "    signal2 = np.abs(np.fft.fft(signal2))[:len(signal2)//2]\n",
    "    plt.plot(np.linspace(0, samplerate//2, len(signal)),  0-signal2)\n",
    "    \n",
    "    plt.xlabel('Normalized frequency')\n",
    "    plt.ylabel('Gain [dB]')\n",
    "    #plt.ylim([-100, 10])\n",
    "    plt.grid()\n",
    "    plt.show()"
   ]
  },
  {
   "cell_type": "code",
   "execution_count": 4,
   "metadata": {},
   "outputs": [],
   "source": [
    "def normalize(signal):\n",
    "\n",
    "    highest = 0\n",
    "    for i in range(len(signal)):\n",
    "        if np.abs(signal[i]) > highest:\n",
    "            highest = np.abs(signal[i])\n",
    "    \n",
    "    return signal / highest"
   ]
  },
  {
   "cell_type": "code",
   "execution_count": 5,
   "metadata": {},
   "outputs": [],
   "source": [
    "# here i make a white noise to measure real responce against\n",
    "w_noise, samplerate = sf.read('noise.wav')\n",
    "w_noise = normalize(w_noise)\n",
    "#samplerate=41000\n",
    "\n",
    "#w_noise = np.random.rand(samplerate) *2 - 1\n"
   ]
  },
  {
   "cell_type": "code",
   "execution_count": 6,
   "metadata": {},
   "outputs": [],
   "source": [
    "\n",
    "def conv(signal, A, B):\n",
    "    \n",
    "    B /= A[0]\n",
    "    print('b, {}'.format(B))\n",
    "    M = len(B)\n",
    "    Q = len(A)\n",
    "    \n",
    "    output = np.full(len(signal), 0.0)\n",
    "    \n",
    "    for N in range(M, len(signal)):\n",
    "\n",
    "        output[N] = B[0] * signal[N]\n",
    "        \n",
    "        for K in range(1, M):\n",
    "\n",
    "            feedback = (a[K] * output[N-K])\n",
    "            \n",
    "            output[N] += (B[K] * signal[N - K]) - feedback\n",
    "\n",
    "\n",
    "        #output[N] /= a[0]\n",
    "\n",
    "    print(output[:10])\n",
    "    return output\n",
    "\n",
    "\n"
   ]
  },
  {
   "cell_type": "code",
   "execution_count": null,
   "metadata": {},
   "outputs": [],
   "source": []
  },
  {
   "cell_type": "code",
   "execution_count": 8,
   "metadata": {},
   "outputs": [
    {
     "name": "stdout",
     "output_type": "stream",
     "text": [
      "[   1.           -8.68400634   34.30936932  -81.17670116  127.33014222\n",
      " -138.3102781   105.33821866  -55.53172797   19.38977899   -4.04864564\n",
      "    0.3838523 ]\n",
      "[2.21685574e-09 2.21685574e-08 9.97585085e-08 2.66022689e-07\n",
      " 4.65539706e-07 5.58647647e-07 4.65539706e-07 2.66022689e-07\n",
      " 9.97585085e-08 2.21685574e-08 2.21685574e-09]\n"
     ]
    },
    {
     "data": {
      "image/png": "[encoded data removed]",
      "text/plain": [
       "<Figure size 432x288 with 1 Axes>"
      ]
     },
     "metadata": {
      "needs_background": "light"
     },
     "output_type": "display_data"
    },
    {
     "name": "stdout",
     "output_type": "stream",
     "text": [
      "b, [2.21685574e-09 2.21685574e-08 9.97585085e-08 2.66022689e-07\n",
      " 4.65539706e-07 5.58647647e-07 4.65539706e-07 2.66022689e-07\n",
      " 9.97585085e-08 2.21685574e-08 2.21685574e-09]\n",
      "[0. 0. 0. 0. 0. 0. 0. 0. 0. 0.]\n"
     ]
    },
    {
     "data": {
      "image/png": "[encoded data removed]",
      "text/plain": [
       "<Figure size 432x288 with 1 Axes>"
      ]
     },
     "metadata": {
      "needs_background": "light"
     },
     "output_type": "display_data"
    }
   ],
   "source": [
    "#get coeficiants from chebychev\n",
    "\n",
    "b, a = sig.cheby1(10, .01, 3000, 'low', fs=samplerate)\n",
    "#sos = sig.cheby1(10, .01, 2000, fs=samplerate, output='sos')\n",
    "#b, a = sig.butter(3, 2000, 'high', fs=samplerate)\n",
    "#sos = sig.butter(15, .2, 10000, fs=samplerate, output = 'sos')\n",
    "\n",
    "#b, a = sig.ellip(10, .1, 100, 10000, 'high', fs=samplerate)\n",
    "\n",
    "\n",
    "\n",
    "print(a)\n",
    "print(b)\n",
    "#print(sos)\n",
    "\n",
    "w, h = sig.freqz(b, a)\n",
    "plt.plot(w/np.pi/2, 20 * np.abs(h))\n",
    "plt.show()\n",
    "#a= a / 1000\n",
    "out = w_noise\n",
    "out = conv(w_noise, a, b)\n",
    "#out = sig.sosfilt(sos, w_noise)\n",
    "#out = sig.lfilter(b, a, w_noise)\n",
    "\n",
    "#plt.plot(np.linspace(0, samplerate//2, len(out)//2), abs(np.fft.fft(np.fft.fft(out))[:len(out)//2]))\n",
    "#plt.plot(out)\n",
    "plt.plot(abs(np.fft.fft(out)[:samplerate//2]))\n",
    "plt.show()"
   ]
  },
  {
   "cell_type": "code",
   "execution_count": null,
   "metadata": {},
   "outputs": [],
   "source": []
  },
  {
   "cell_type": "code",
   "execution_count": null,
   "metadata": {},
   "outputs": [],
   "source": []
  },
  {
   "cell_type": "code",
   "execution_count": null,
   "metadata": {},
   "outputs": [],
   "source": []
  },
  {
   "cell_type": "code",
   "execution_count": null,
   "metadata": {},
   "outputs": [],
   "source": []
  },
  {
   "cell_type": "code",
   "execution_count": null,
   "metadata": {},
   "outputs": [],
   "source": []
  }
 ],
 "metadata": {
  "kernelspec": {
   "display_name": "Python 3",
   "language": "python",
   "name": "python3"
  },
  "language_info": {
   "codemirror_mode": {
    "name": "ipython",
    "version": 3
   },
   "file_extension": ".py",
   "mimetype": "text/x-python",
   "name": "python",
   "nbconvert_exporter": "python",
   "pygments_lexer": "ipython3",
   "version": "3.7.3"
  }
 },
 "nbformat": 4,
 "nbformat_minor": 2
}
